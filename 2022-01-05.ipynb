{
 "cells": [
  {
   "cell_type": "markdown",
   "id": "b9d7c94a",
   "metadata": {},
   "source": [
    "#Object oriented programming\n",
    "#class is real world model\n",
    "#object is the entity of the objects\n",
    "#featues of the OOP\n",
    "class Myclass:\n",
    "    val=5\n",
    "o=Myclass() #Creating the object of my class\n",
    "\n",
    "o.val\n",
    "\n",
    "    \n",
    "    \n",
    "\n"
   ]
  },
  {
   "cell_type": "code",
   "execution_count": 2,
   "id": "fb411442",
   "metadata": {},
   "outputs": [
    {
     "data": {
      "text/plain": [
       "22"
      ]
     },
     "execution_count": 2,
     "metadata": {},
     "output_type": "execute_result"
    }
   ],
   "source": [
    "#the_init_function()-funtions to initiliste the functionvariables of the class\n",
    "class TechAxisStudent:\n",
    "    def __init__(self,name,age,address):\n",
    "        self.name=name\n",
    "        self.age=age\n",
    "        self.address=address\n",
    "        \n",
    "s1=TechAxisStudent(\"sachit\",22,\"kumaripart1\")  \n",
    "s1.age\n"
   ]
  },
  {
   "cell_type": "code",
   "execution_count": 3,
   "id": "af9f4da3",
   "metadata": {},
   "outputs": [
    {
     "data": {
      "text/plain": [
       "'kumaripart1'"
      ]
     },
     "execution_count": 3,
     "metadata": {},
     "output_type": "execute_result"
    }
   ],
   "source": [
    "s1.address"
   ]
  },
  {
   "cell_type": "code",
   "execution_count": 4,
   "id": "57700594",
   "metadata": {},
   "outputs": [
    {
     "data": {
      "text/plain": [
       "34"
      ]
     },
     "execution_count": 4,
     "metadata": {},
     "output_type": "execute_result"
    }
   ],
   "source": [
    "s2=TechAxisStudent(\"pradip\",34,\"address\")\n",
    "s2.age"
   ]
  },
  {
   "cell_type": "code",
   "execution_count": 5,
   "id": "e37f2b07",
   "metadata": {},
   "outputs": [
    {
     "ename": "TypeError",
     "evalue": "__init__() missing 1 required positional argument: 'address'",
     "output_type": "error",
     "traceback": [
      "\u001b[1;31m---------------------------------------------------------------------------\u001b[0m",
      "\u001b[1;31mTypeError\u001b[0m                                 Traceback (most recent call last)",
      "Input \u001b[1;32mIn [5]\u001b[0m, in \u001b[0;36m<cell line: 2>\u001b[1;34m()\u001b[0m\n\u001b[0;32m      1\u001b[0m \u001b[38;5;66;03m#How to ascess the name?\u001b[39;00m\n\u001b[1;32m----> 2\u001b[0m \u001b[38;5;28;01mclass\u001b[39;00m \u001b[38;5;21;01mTechAxisStudent\u001b[39;00m:\n\u001b[0;32m      3\u001b[0m     \u001b[38;5;28;01mdef\u001b[39;00m \u001b[38;5;21m__init__\u001b[39m(\u001b[38;5;28mself\u001b[39m,name,address):\n\u001b[0;32m      4\u001b[0m         \u001b[38;5;28mself\u001b[39m\u001b[38;5;241m.\u001b[39mname\u001b[38;5;241m=\u001b[39mname\n",
      "Input \u001b[1;32mIn [5]\u001b[0m, in \u001b[0;36mTechAxisStudent\u001b[1;34m()\u001b[0m\n\u001b[0;32m      7\u001b[0m \u001b[38;5;28;01mdef\u001b[39;00m \u001b[38;5;21mget_full_info\u001b[39m(\u001b[38;5;28mself\u001b[39m):\n\u001b[0;32m      8\u001b[0m     \u001b[38;5;28;01mreturn\u001b[39;00m\u001b[38;5;124m\"\u001b[39m\u001b[38;5;124mI am \u001b[39m\u001b[38;5;124m\"\u001b[39m\u001b[38;5;241m+\u001b[39m\u001b[38;5;28mself\u001b[39m\u001b[38;5;241m.\u001b[39mname\u001b[38;5;241m+\u001b[39m\u001b[38;5;124m\"\u001b[39m\u001b[38;5;124m from \u001b[39m\u001b[38;5;124m\"\u001b[39m\u001b[38;5;241m+\u001b[39m\u001b[38;5;28mself\u001b[39m\u001b[38;5;241m.\u001b[39maddress\n\u001b[1;32m---> 10\u001b[0m s1\u001b[38;5;241m=\u001b[39m\u001b[43mTechAxisStudent\u001b[49m\u001b[43m(\u001b[49m\u001b[38;5;124;43m\"\u001b[39;49m\u001b[38;5;124;43msantosh\u001b[39;49m\u001b[38;5;124;43m\"\u001b[39;49m\u001b[43m,\u001b[49m\u001b[38;5;124;43m\"\u001b[39;49m\u001b[38;5;124;43mkalanki\u001b[39;49m\u001b[38;5;124;43m\"\u001b[39;49m\u001b[43m)\u001b[49m\n\u001b[0;32m     11\u001b[0m c\u001b[38;5;241m=\u001b[39mget_full_info(s1)\n\u001b[0;32m     12\u001b[0m \u001b[38;5;28mprint\u001b[39m(c)\n",
      "\u001b[1;31mTypeError\u001b[0m: __init__() missing 1 required positional argument: 'address'"
     ]
    }
   ],
   "source": [
    "#How to ascess the name?\n",
    "class TechAxisStudent:\n",
    "    def __init__(self,name,address):\n",
    "        self.name=name\n",
    "        self.address=address\n",
    "        \n",
    "    def get_full_info(self):\n",
    "        return\"I am \"+self.name+\" from \"+self.address\n",
    "    \n",
    "    s1=TechAxisStudent(\"santosh\",\"kalanki\")\n",
    "    c=get_full_info(s1)\n",
    "    print(c)"
   ]
  },
  {
   "cell_type": "code",
   "execution_count": null,
   "id": "efcae636",
   "metadata": {},
   "outputs": [],
   "source": [
    "class Person:\n",
    "    def __init__(self,name,age,sex,intrests):\n",
    "        self.name=name\n",
    "        self.sex=sex\n",
    "        self.age=age\n",
    "        self.intrests=intrests\n",
    "        \n",
    "#     def my_intrests(identifier):\n",
    "#         return \"my intrests are \"+intrests[0]+\" and \"+intrests[1]\n",
    "    \n",
    "s1= Person(\"santosh\",24,\"male\",[\"\"])\n",
    "s1.intrests[0]\n",
    "    "
   ]
  },
  {
   "cell_type": "code",
   "execution_count": null,
   "id": "93b387d4",
   "metadata": {},
   "outputs": [],
   "source": [
    "class Person:\n",
    "    def __init__(self,name,age,sex,intrests):\n",
    "        self.name=name\n",
    "        self.sex=sex\n",
    "        self.age=age\n",
    "        self.intrests=intrests\n",
    "        \n",
    "    def my_intrests(self):\n",
    "        return \"my intrests are \"+self.intrests[0]+\" and \"+self.intrests[1]\n",
    "    \n",
    "s1= Person(\"santosh\",24,\"male\",['a','b'])\n",
    "s1.my_intrests()"
   ]
  },
  {
   "cell_type": "code",
   "execution_count": null,
   "id": "59b12402",
   "metadata": {},
   "outputs": [],
   "source": [
    "class company:\n",
    "    def __init__(self,employee_name,employee_salary):\n",
    "        self.employee_name=employee_name\n",
    "        self.employee_salary=employee_salary\n",
    "        \n",
    "    def get_employee_details(self):\n",
    "        return self.employee_name+\" has salary of \"+str(self.employee_salary)\n",
    "    \n",
    "e1=company(\"santosh\",20000)\n",
    "c= e1.get_employee_details()\n",
    "print(c)\n",
    "\n",
    "\n",
    "    \n",
    "        \n",
    "    \n",
    "    "
   ]
  },
  {
   "cell_type": "code",
   "execution_count": 16,
   "id": "8215ea9e",
   "metadata": {},
   "outputs": [
    {
     "name": "stdout",
     "output_type": "stream",
     "text": [
      "enter the item name: Laptop\n",
      "enter the price: 400000\n",
      "Laptop is of price 400000 and is  of the company name acer and i5\n"
     ]
    }
   ],
   "source": [
    "#Class with dictionary\n",
    "class electronic_item:\n",
    "    def __init__(self,item_name,price,others):\n",
    "        self.item_name=item_name\n",
    "        self.price=price\n",
    "        self.others=others\n",
    "        \n",
    "    def get_details(self):\n",
    "        return self.item_name+\" is of price \"+str(self.price)+\" and is  of the \"+\"company name \"+self.others['company']+\" and \"+self.others['model']\n",
    "    \n",
    "name1=input('enter the item name: ')\n",
    "price1=input('enter the price: ')\n",
    "others1={'company':'acer','model':'i5'}\n",
    "    \n",
    "item1=electronic_item(name1,price1,others1)\n",
    "c=item1.get_details()\n",
    "print(c)\n",
    "    \n",
    "        \n",
    "    "
   ]
  },
  {
   "cell_type": "code",
   "execution_count": 34,
   "id": "ead341ae",
   "metadata": {},
   "outputs": [
    {
     "name": "stdout",
     "output_type": "stream",
     "text": [
      "{0, 1, 2, 3, 4, 5, 6, 7, 8, 9}\n",
      "{0, 1, 2, 3, 4, 5, 6, 7, 8, 9, 123}\n",
      "{0, 1, 2, 3, 4, 5, 6, 7, 8, 9}\n"
     ]
    },
    {
     "ename": "TypeError",
     "evalue": "set.add() takes exactly one argument (2 given)",
     "output_type": "error",
     "traceback": [
      "\u001b[1;31m---------------------------------------------------------------------------\u001b[0m",
      "\u001b[1;31mTypeError\u001b[0m                                 Traceback (most recent call last)",
      "Input \u001b[1;32mIn [34]\u001b[0m, in \u001b[0;36m<cell line: 8>\u001b[1;34m()\u001b[0m\n\u001b[0;32m      6\u001b[0m \u001b[38;5;28mprint\u001b[39m(a)\n\u001b[0;32m      7\u001b[0m a\u001b[38;5;241m.\u001b[39mdiscard(\u001b[38;5;241m9\u001b[39m)\n\u001b[1;32m----> 8\u001b[0m \u001b[43ma\u001b[49m\u001b[38;5;241;43m.\u001b[39;49m\u001b[43madd\u001b[49m\u001b[43m(\u001b[49m\u001b[38;5;241;43m1000\u001b[39;49m\u001b[43m,\u001b[49m\u001b[38;5;241;43m1000000\u001b[39;49m\u001b[43m)\u001b[49m\n\u001b[0;32m      9\u001b[0m \u001b[38;5;28mprint\u001b[39m(a)\n",
      "\u001b[1;31mTypeError\u001b[0m: set.add() takes exactly one argument (2 given)"
     ]
    }
   ],
   "source": [
    "a={1,2,3,4,5,6,7,8,9,0}\n",
    "print(a)\n",
    "a.add(123)\n",
    "print(a)\n",
    "a.remove(123)\n",
    "print(a)\n",
    "a.discard(9)\n",
    "a.add(1000,1000000)\n",
    "print(a)\n",
    "\n",
    "\n",
    "    "
   ]
  },
  {
   "cell_type": "code",
   "execution_count": 18,
   "id": "4e76bb5d",
   "metadata": {},
   "outputs": [
    {
     "ename": "TypeError",
     "evalue": "'set' object is not subscriptable",
     "output_type": "error",
     "traceback": [
      "\u001b[1;31m---------------------------------------------------------------------------\u001b[0m",
      "\u001b[1;31mTypeError\u001b[0m                                 Traceback (most recent call last)",
      "Input \u001b[1;32mIn [18]\u001b[0m, in \u001b[0;36m<cell line: 1>\u001b[1;34m()\u001b[0m\n\u001b[1;32m----> 1\u001b[0m \u001b[38;5;28mprint\u001b[39m(\u001b[43ma\u001b[49m\u001b[43m[\u001b[49m\u001b[38;5;241;43m5\u001b[39;49m\u001b[43m]\u001b[49m)\n",
      "\u001b[1;31mTypeError\u001b[0m: 'set' object is not subscriptable"
     ]
    }
   ],
   "source": []
  },
  {
   "cell_type": "code",
   "execution_count": null,
   "id": "e8579a4e",
   "metadata": {},
   "outputs": [],
   "source": [
    "class relationship:\n",
    "    \n"
   ]
  }
 ],
 "metadata": {
  "kernelspec": {
   "display_name": "Python 3 (ipykernel)",
   "language": "python",
   "name": "python3"
  },
  "language_info": {
   "codemirror_mode": {
    "name": "ipython",
    "version": 3
   },
   "file_extension": ".py",
   "mimetype": "text/x-python",
   "name": "python",
   "nbconvert_exporter": "python",
   "pygments_lexer": "ipython3",
   "version": "3.9.12"
  }
 },
 "nbformat": 4,
 "nbformat_minor": 5
}
